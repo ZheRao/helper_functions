{
 "cells": [
  {
   "cell_type": "code",
   "execution_count": 3,
   "metadata": {},
   "outputs": [
    {
     "name": "stdout",
     "output_type": "stream",
     "text": [
      "tqdm version: 4.66.1\n",
      "torch version: 2.2.0\n",
      "numpy version: 1.26.3\n",
      "shutil version: 1.26.3\n"
     ]
    }
   ],
   "source": [
    "import tqdm\n",
    "import torch\n",
    "import numpy\n",
    "import shutil\n",
    "print(f\"tqdm version: {tqdm.__version__}\")\n",
    "print(f\"torch version: {torch.__version__}\")\n",
    "print(f\"numpy version: {numpy.__version__}\")\n",
    "print(f\"shutil version: {numpy.__version__}\")"
   ]
  }
 ],
 "metadata": {
  "kernelspec": {
   "display_name": "project_space",
   "language": "python",
   "name": "python3"
  },
  "language_info": {
   "codemirror_mode": {
    "name": "ipython",
    "version": 3
   },
   "file_extension": ".py",
   "mimetype": "text/x-python",
   "name": "python",
   "nbconvert_exporter": "python",
   "pygments_lexer": "ipython3",
   "version": "3.11.7"
  }
 },
 "nbformat": 4,
 "nbformat_minor": 2
}
